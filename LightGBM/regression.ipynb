{
 "cells": [
  {
   "cell_type": "code",
   "execution_count": 1,
   "id": "7fd24b2a-29ea-4502-80a1-0d7fabb0cdac",
   "metadata": {
    "tags": []
   },
   "outputs": [],
   "source": [
    "import numpy as np\n",
    "import pandas as pd\n",
    "\n",
    "from sklearn.model_selection import train_test_split\n",
    "\n",
    "from sklearn.preprocessing import StandardScaler\n",
    "\n",
    "import lightgbm\n",
    "\n",
    "from sklearn.metrics import mean_squared_error"
   ]
  },
  {
   "cell_type": "markdown",
   "id": "bb20cad1-6d63-4895-a448-b48571cc68eb",
   "metadata": {},
   "source": [
    "## データの抽出"
   ]
  },
  {
   "cell_type": "code",
   "execution_count": 2,
   "id": "daeea6fc-638b-4932-a8c9-9ae06eeaa82f",
   "metadata": {
    "tags": []
   },
   "outputs": [],
   "source": [
    "# 住宅価格データセットの読み込み\n",
    "df = pd.read_csv(\n",
    "    \"https://archive.ics.uci.edu/ml/machine-learning-databases/housing/housing.data\",\n",
    "    # \"https://archive.ics.uci.edu/ml/machine-learning-databases/wine/wine.data\",\n",
    "    header=None,\n",
    "    sep=\"\\s+\"\n",
    ")"
   ]
  },
  {
   "cell_type": "code",
   "execution_count": 3,
   "id": "99dbbf05-133e-4226-8c3b-72c848f659f2",
   "metadata": {
    "tags": []
   },
   "outputs": [
    {
     "data": {
      "text/plain": [
       "(array([[6.3200e-03, 1.8000e+01, 2.3100e+00, ..., 1.5300e+01, 3.9690e+02,\n",
       "         4.9800e+00],\n",
       "        [2.7310e-02, 0.0000e+00, 7.0700e+00, ..., 1.7800e+01, 3.9690e+02,\n",
       "         9.1400e+00],\n",
       "        [2.7290e-02, 0.0000e+00, 7.0700e+00, ..., 1.7800e+01, 3.9283e+02,\n",
       "         4.0300e+00],\n",
       "        ...,\n",
       "        [6.0760e-02, 0.0000e+00, 1.1930e+01, ..., 2.1000e+01, 3.9690e+02,\n",
       "         5.6400e+00],\n",
       "        [1.0959e-01, 0.0000e+00, 1.1930e+01, ..., 2.1000e+01, 3.9345e+02,\n",
       "         6.4800e+00],\n",
       "        [4.7410e-02, 0.0000e+00, 1.1930e+01, ..., 2.1000e+01, 3.9690e+02,\n",
       "         7.8800e+00]]),\n",
       " array([3.61352356e+00, 1.13636364e+01, 1.11367787e+01, 6.91699605e-02,\n",
       "        5.54695059e-01, 6.28463439e+00, 6.85749012e+01, 3.79504269e+00,\n",
       "        9.54940711e+00, 4.08237154e+02, 1.84555336e+01, 3.56674032e+02,\n",
       "        1.26530632e+01]),\n",
       " array([8.59304135e+00, 2.32993957e+01, 6.85357058e+00, 2.53742935e-01,\n",
       "        1.15763115e-01, 7.01922514e-01, 2.81210326e+01, 2.10362836e+00,\n",
       "        8.69865112e+00, 1.68370495e+02, 2.16280519e+00, 9.12046075e+01,\n",
       "        7.13400164e+00]))"
      ]
     },
     "execution_count": 3,
     "metadata": {},
     "output_type": "execute_result"
    }
   ],
   "source": [
    "X = df.iloc[:, 0:13].values  # 訓練データ\n",
    "y = df.iloc[:, 13].values  # ラベル\n",
    "X, X.mean(axis=0), X.std(axis=0)"
   ]
  },
  {
   "cell_type": "markdown",
   "id": "0976a2f2-4875-411b-a4a7-d48f2c00a69f",
   "metadata": {},
   "source": [
    "## データセットを訓練データとテストデータに分割"
   ]
  },
  {
   "cell_type": "code",
   "execution_count": 4,
   "id": "88d9ac88-6651-4121-b44f-d1a319906f65",
   "metadata": {
    "tags": []
   },
   "outputs": [],
   "source": [
    "X_train, X_test, y_train, y_test = train_test_split(\n",
    "    X, y, test_size=0.2, random_state=0\n",
    ")"
   ]
  },
  {
   "cell_type": "code",
   "execution_count": 5,
   "id": "d27690c8-5234-4fba-aeb6-3a8758367e70",
   "metadata": {
    "tags": []
   },
   "outputs": [
    {
     "data": {
      "text/plain": [
       "((404, 13), (102, 13), (404,), (102,))"
      ]
     },
     "execution_count": 5,
     "metadata": {},
     "output_type": "execute_result"
    }
   ],
   "source": [
    "X_train.shape, X_test.shape, y_train.shape, y_test.shape"
   ]
  },
  {
   "cell_type": "markdown",
   "id": "66d492c4-cce7-4301-bf63-9f22790d5a8e",
   "metadata": {},
   "source": [
    "## データ加工"
   ]
  },
  {
   "cell_type": "code",
   "execution_count": 6,
   "id": "88b26223-6e05-47ac-af41-4758bd8b5bf3",
   "metadata": {
    "tags": []
   },
   "outputs": [],
   "source": [
    "standard_scaler = StandardScaler()  # 変数ごとの平均0，標準偏差1\n",
    "X_train_std = standard_scaler.fit_transform(X_train)\n",
    "X_test_std = standard_scaler.transform(X_test)"
   ]
  },
  {
   "cell_type": "code",
   "execution_count": 7,
   "id": "94bb556d-f3b2-4a3d-b3d8-c45adce74890",
   "metadata": {
    "tags": []
   },
   "outputs": [
    {
     "data": {
      "text/plain": [
       "(array([[-0.37257438, -0.49960763, -0.70492455, ..., -0.48463784,\n",
       "          0.3716906 , -0.41100022],\n",
       "        [-0.39709866, -0.49960763, -0.04487755, ...,  0.33649132,\n",
       "          0.20501196, -0.38768057],\n",
       "        [-0.402693  ,  0.77116771, -0.88675963, ..., -0.84958414,\n",
       "          0.36660893, -0.18191902],\n",
       "        ...,\n",
       "        [-0.39805586, -0.49960763, -0.15941933, ..., -0.30216469,\n",
       "          0.40342278, -0.33006734],\n",
       "        [-0.38842357, -0.49960763, -0.60326872, ..., -0.25654641,\n",
       "          0.38343489,  0.8359148 ],\n",
       "        [-0.39951258, -0.49960763, -1.01275558, ..., -0.84958414,\n",
       "          0.43041207,  0.27212814]]),\n",
       " array([-2.33174316e-16, -6.23813432e-17,  2.69916103e-15, -3.95723058e-17,\n",
       "        -9.89857261e-16, -1.47571724e-15,  8.65918998e-16,  2.00884414e-16,\n",
       "        -1.18716917e-16,  2.91296140e-17,  1.65098958e-14,  7.99759049e-15,\n",
       "        -1.85852434e-15]),\n",
       " array([1., 1., 1., 1., 1., 1., 1., 1., 1., 1., 1., 1., 1.]))"
      ]
     },
     "execution_count": 7,
     "metadata": {},
     "output_type": "execute_result"
    }
   ],
   "source": [
    "X_train_std, X_train_std.mean(axis=0), X_train_std.std(axis=0)"
   ]
  },
  {
   "cell_type": "code",
   "execution_count": 8,
   "id": "1f85f169-c419-4d88-93ba-652e295ced75",
   "metadata": {
    "tags": []
   },
   "outputs": [
    {
     "data": {
      "text/plain": [
       "(array([[-0.40835869, -0.49960763, -1.12872913, ..., -0.71272928,\n",
       "          0.18547577, -0.73610347],\n",
       "        [ 0.71925111, -0.49960763,  0.9988844 , ...,  0.79267419,\n",
       "          0.0831649 , -0.4356916 ],\n",
       "        [-0.40257488, -0.49960763,  0.39610829, ..., -0.94082071,\n",
       "          0.39472748, -0.30263246],\n",
       "        ...,\n",
       "        [-0.3982601 ,  0.55937182, -0.85812418, ...,  0.56458276,\n",
       "          0.41019833,  0.06087961],\n",
       "        [-0.39934279, -0.49960763, -0.07637654, ...,  0.0627816 ,\n",
       "          0.30517724, -0.45626776],\n",
       "        [-0.40088071, -0.49960763, -0.36702631, ...,  1.1120022 ,\n",
       "          0.41166637, -0.05983383]]),\n",
       " array([ 0.13866949, -0.09055086,  0.00947364, -0.00267538, -0.05133271,\n",
       "        -0.12271014, -0.07993312,  0.05920719,  0.08369368,  0.15678111,\n",
       "        -0.01548507, -0.11828163, -0.03615108]),\n",
       " array([1.25248977, 0.92992239, 0.90326538, 0.99544914, 1.02902695,\n",
       "        1.05088058, 1.00607704, 1.05843705, 1.02463579, 0.92140548,\n",
       "        0.93171334, 1.13590961, 0.88821615]))"
      ]
     },
     "execution_count": 8,
     "metadata": {},
     "output_type": "execute_result"
    }
   ],
   "source": [
    "X_test_std, X_test_std.mean(axis=0), X_test_std.std(axis=0)"
   ]
  },
  {
   "cell_type": "markdown",
   "id": "a786f735-e710-478b-9a34-e17f3ed197c5",
   "metadata": {},
   "source": [
    "## 予測モデルの指定"
   ]
  },
  {
   "cell_type": "code",
   "execution_count": 12,
   "id": "d279eab7-5ed4-4bc5-bb63-5c922644f47d",
   "metadata": {
    "tags": []
   },
   "outputs": [],
   "source": [
    "model = lightgbm.LGBMRegressor()"
   ]
  },
  {
   "cell_type": "markdown",
   "id": "d4bfb9d2-9845-4ea9-8f06-782b65f9df9c",
   "metadata": {},
   "source": [
    "## 訓練データと損失関数を用いたモデルの学習"
   ]
  },
  {
   "cell_type": "code",
   "execution_count": 13,
   "id": "1241b1f7-f339-4531-8c30-aada07e8d662",
   "metadata": {
    "tags": []
   },
   "outputs": [
    {
     "data": {
      "text/html": [
       "<style>#sk-container-id-1 {color: black;background-color: white;}#sk-container-id-1 pre{padding: 0;}#sk-container-id-1 div.sk-toggleable {background-color: white;}#sk-container-id-1 label.sk-toggleable__label {cursor: pointer;display: block;width: 100%;margin-bottom: 0;padding: 0.3em;box-sizing: border-box;text-align: center;}#sk-container-id-1 label.sk-toggleable__label-arrow:before {content: \"▸\";float: left;margin-right: 0.25em;color: #696969;}#sk-container-id-1 label.sk-toggleable__label-arrow:hover:before {color: black;}#sk-container-id-1 div.sk-estimator:hover label.sk-toggleable__label-arrow:before {color: black;}#sk-container-id-1 div.sk-toggleable__content {max-height: 0;max-width: 0;overflow: hidden;text-align: left;background-color: #f0f8ff;}#sk-container-id-1 div.sk-toggleable__content pre {margin: 0.2em;color: black;border-radius: 0.25em;background-color: #f0f8ff;}#sk-container-id-1 input.sk-toggleable__control:checked~div.sk-toggleable__content {max-height: 200px;max-width: 100%;overflow: auto;}#sk-container-id-1 input.sk-toggleable__control:checked~label.sk-toggleable__label-arrow:before {content: \"▾\";}#sk-container-id-1 div.sk-estimator input.sk-toggleable__control:checked~label.sk-toggleable__label {background-color: #d4ebff;}#sk-container-id-1 div.sk-label input.sk-toggleable__control:checked~label.sk-toggleable__label {background-color: #d4ebff;}#sk-container-id-1 input.sk-hidden--visually {border: 0;clip: rect(1px 1px 1px 1px);clip: rect(1px, 1px, 1px, 1px);height: 1px;margin: -1px;overflow: hidden;padding: 0;position: absolute;width: 1px;}#sk-container-id-1 div.sk-estimator {font-family: monospace;background-color: #f0f8ff;border: 1px dotted black;border-radius: 0.25em;box-sizing: border-box;margin-bottom: 0.5em;}#sk-container-id-1 div.sk-estimator:hover {background-color: #d4ebff;}#sk-container-id-1 div.sk-parallel-item::after {content: \"\";width: 100%;border-bottom: 1px solid gray;flex-grow: 1;}#sk-container-id-1 div.sk-label:hover label.sk-toggleable__label {background-color: #d4ebff;}#sk-container-id-1 div.sk-serial::before {content: \"\";position: absolute;border-left: 1px solid gray;box-sizing: border-box;top: 0;bottom: 0;left: 50%;z-index: 0;}#sk-container-id-1 div.sk-serial {display: flex;flex-direction: column;align-items: center;background-color: white;padding-right: 0.2em;padding-left: 0.2em;position: relative;}#sk-container-id-1 div.sk-item {position: relative;z-index: 1;}#sk-container-id-1 div.sk-parallel {display: flex;align-items: stretch;justify-content: center;background-color: white;position: relative;}#sk-container-id-1 div.sk-item::before, #sk-container-id-1 div.sk-parallel-item::before {content: \"\";position: absolute;border-left: 1px solid gray;box-sizing: border-box;top: 0;bottom: 0;left: 50%;z-index: -1;}#sk-container-id-1 div.sk-parallel-item {display: flex;flex-direction: column;z-index: 1;position: relative;background-color: white;}#sk-container-id-1 div.sk-parallel-item:first-child::after {align-self: flex-end;width: 50%;}#sk-container-id-1 div.sk-parallel-item:last-child::after {align-self: flex-start;width: 50%;}#sk-container-id-1 div.sk-parallel-item:only-child::after {width: 0;}#sk-container-id-1 div.sk-dashed-wrapped {border: 1px dashed gray;margin: 0 0.4em 0.5em 0.4em;box-sizing: border-box;padding-bottom: 0.4em;background-color: white;}#sk-container-id-1 div.sk-label label {font-family: monospace;font-weight: bold;display: inline-block;line-height: 1.2em;}#sk-container-id-1 div.sk-label-container {text-align: center;}#sk-container-id-1 div.sk-container {/* jupyter's `normalize.less` sets `[hidden] { display: none; }` but bootstrap.min.css set `[hidden] { display: none !important; }` so we also need the `!important` here to be able to override the default hidden behavior on the sphinx rendered scikit-learn.org. See: https://github.com/scikit-learn/scikit-learn/issues/21755 */display: inline-block !important;position: relative;}#sk-container-id-1 div.sk-text-repr-fallback {display: none;}</style><div id=\"sk-container-id-1\" class=\"sk-top-container\"><div class=\"sk-text-repr-fallback\"><pre>LGBMRegressor()</pre><b>In a Jupyter environment, please rerun this cell to show the HTML representation or trust the notebook. <br />On GitHub, the HTML representation is unable to render, please try loading this page with nbviewer.org.</b></div><div class=\"sk-container\" hidden><div class=\"sk-item\"><div class=\"sk-estimator sk-toggleable\"><input class=\"sk-toggleable__control sk-hidden--visually\" id=\"sk-estimator-id-1\" type=\"checkbox\" checked><label for=\"sk-estimator-id-1\" class=\"sk-toggleable__label sk-toggleable__label-arrow\">LGBMRegressor</label><div class=\"sk-toggleable__content\"><pre>LGBMRegressor()</pre></div></div></div></div></div>"
      ],
      "text/plain": [
       "LGBMRegressor()"
      ]
     },
     "execution_count": 13,
     "metadata": {},
     "output_type": "execute_result"
    }
   ],
   "source": [
    "model.fit(X_train_std, y_train)"
   ]
  },
  {
   "cell_type": "markdown",
   "id": "e37f2f85-a47c-4cca-9598-2f4e84c79702",
   "metadata": {},
   "source": [
    "## テストデータを用いたモデルの評価"
   ]
  },
  {
   "cell_type": "code",
   "execution_count": 14,
   "id": "2dc10f06-1412-456b-b986-0b9699b01b64",
   "metadata": {
    "tags": []
   },
   "outputs": [],
   "source": [
    "y_train_pred = model.predict(X_train_std)\n",
    "y_test_pred = model.predict(X_test_std)"
   ]
  },
  {
   "cell_type": "code",
   "execution_count": 15,
   "id": "ac6f539e-2b17-4c35-aba5-a720d1c6c97a",
   "metadata": {
    "tags": []
   },
   "outputs": [
    {
     "data": {
      "text/plain": [
       "(1.9212381080320244, 24.5098863728449)"
      ]
     },
     "execution_count": 15,
     "metadata": {},
     "output_type": "execute_result"
    }
   ],
   "source": [
    "(\n",
    "    np.mean(\n",
    "        (y_train - y_train_pred) ** 2\n",
    "    ),\n",
    "    np.mean(\n",
    "        (y_test - y_test_pred) ** 2\n",
    "    )\n",
    ")"
   ]
  },
  {
   "cell_type": "code",
   "execution_count": 16,
   "id": "c6f2e5f6-9033-4f76-81b8-b7b46db751b6",
   "metadata": {
    "tags": []
   },
   "outputs": [
    {
     "data": {
      "text/plain": [
       "(1.9212381080320244, 24.5098863728449)"
      ]
     },
     "execution_count": 16,
     "metadata": {},
     "output_type": "execute_result"
    }
   ],
   "source": [
    "(\n",
    "    mean_squared_error(\n",
    "        y_train, y_train_pred\n",
    "    ),\n",
    "    mean_squared_error(\n",
    "        y_test, y_test_pred\n",
    "    )\n",
    ")"
   ]
  },
  {
   "cell_type": "markdown",
   "id": "8fa3f5ee-339b-4416-8c7a-26be85de91de",
   "metadata": {},
   "source": [
    "## モデルの保存と読み込み"
   ]
  },
  {
   "cell_type": "code",
   "execution_count": 17,
   "id": "4945453f-8fe5-4196-875c-bffc023381df",
   "metadata": {
    "tags": []
   },
   "outputs": [],
   "source": [
    "# load libraries\n",
    "import pickle"
   ]
  },
  {
   "cell_type": "code",
   "execution_count": 18,
   "id": "e1d4abf3-5bec-4a85-8471-88ca65eef86a",
   "metadata": {
    "tags": []
   },
   "outputs": [],
   "source": [
    "file_path = '../models/trained_LightGBMRegressor_model.pkl'\n",
    "pickle.dump(model, open(file_path, 'wb'))\n",
    "\n",
    "# 学習済みモデルを削除\n",
    "del model"
   ]
  },
  {
   "cell_type": "code",
   "execution_count": 19,
   "id": "073d9ced-15e0-49a2-8b0f-2b442f6ad5d5",
   "metadata": {
    "tags": []
   },
   "outputs": [
    {
     "ename": "NameError",
     "evalue": "name 'model' is not defined",
     "output_type": "error",
     "traceback": [
      "\u001b[0;31m---------------------------------------------------------------------------\u001b[0m",
      "\u001b[0;31mNameError\u001b[0m                                 Traceback (most recent call last)",
      "Cell \u001b[0;32mIn[19], line 1\u001b[0m\n\u001b[0;32m----> 1\u001b[0m y_train_pred \u001b[38;5;241m=\u001b[39m \u001b[43mmodel\u001b[49m\u001b[38;5;241m.\u001b[39mpredict(X_train_std)\n\u001b[1;32m      2\u001b[0m y_test_pred \u001b[38;5;241m=\u001b[39m model\u001b[38;5;241m.\u001b[39mpredict(X_test_std)\n",
      "\u001b[0;31mNameError\u001b[0m: name 'model' is not defined"
     ]
    }
   ],
   "source": [
    "y_train_pred = model.predict(X_train_std)\n",
    "y_test_pred = model.predict(X_test_std)"
   ]
  },
  {
   "cell_type": "code",
   "execution_count": 20,
   "id": "f331102b-190e-4669-84af-d462779846d2",
   "metadata": {
    "tags": []
   },
   "outputs": [
    {
     "data": {
      "text/html": [
       "<style>#sk-container-id-2 {color: black;background-color: white;}#sk-container-id-2 pre{padding: 0;}#sk-container-id-2 div.sk-toggleable {background-color: white;}#sk-container-id-2 label.sk-toggleable__label {cursor: pointer;display: block;width: 100%;margin-bottom: 0;padding: 0.3em;box-sizing: border-box;text-align: center;}#sk-container-id-2 label.sk-toggleable__label-arrow:before {content: \"▸\";float: left;margin-right: 0.25em;color: #696969;}#sk-container-id-2 label.sk-toggleable__label-arrow:hover:before {color: black;}#sk-container-id-2 div.sk-estimator:hover label.sk-toggleable__label-arrow:before {color: black;}#sk-container-id-2 div.sk-toggleable__content {max-height: 0;max-width: 0;overflow: hidden;text-align: left;background-color: #f0f8ff;}#sk-container-id-2 div.sk-toggleable__content pre {margin: 0.2em;color: black;border-radius: 0.25em;background-color: #f0f8ff;}#sk-container-id-2 input.sk-toggleable__control:checked~div.sk-toggleable__content {max-height: 200px;max-width: 100%;overflow: auto;}#sk-container-id-2 input.sk-toggleable__control:checked~label.sk-toggleable__label-arrow:before {content: \"▾\";}#sk-container-id-2 div.sk-estimator input.sk-toggleable__control:checked~label.sk-toggleable__label {background-color: #d4ebff;}#sk-container-id-2 div.sk-label input.sk-toggleable__control:checked~label.sk-toggleable__label {background-color: #d4ebff;}#sk-container-id-2 input.sk-hidden--visually {border: 0;clip: rect(1px 1px 1px 1px);clip: rect(1px, 1px, 1px, 1px);height: 1px;margin: -1px;overflow: hidden;padding: 0;position: absolute;width: 1px;}#sk-container-id-2 div.sk-estimator {font-family: monospace;background-color: #f0f8ff;border: 1px dotted black;border-radius: 0.25em;box-sizing: border-box;margin-bottom: 0.5em;}#sk-container-id-2 div.sk-estimator:hover {background-color: #d4ebff;}#sk-container-id-2 div.sk-parallel-item::after {content: \"\";width: 100%;border-bottom: 1px solid gray;flex-grow: 1;}#sk-container-id-2 div.sk-label:hover label.sk-toggleable__label {background-color: #d4ebff;}#sk-container-id-2 div.sk-serial::before {content: \"\";position: absolute;border-left: 1px solid gray;box-sizing: border-box;top: 0;bottom: 0;left: 50%;z-index: 0;}#sk-container-id-2 div.sk-serial {display: flex;flex-direction: column;align-items: center;background-color: white;padding-right: 0.2em;padding-left: 0.2em;position: relative;}#sk-container-id-2 div.sk-item {position: relative;z-index: 1;}#sk-container-id-2 div.sk-parallel {display: flex;align-items: stretch;justify-content: center;background-color: white;position: relative;}#sk-container-id-2 div.sk-item::before, #sk-container-id-2 div.sk-parallel-item::before {content: \"\";position: absolute;border-left: 1px solid gray;box-sizing: border-box;top: 0;bottom: 0;left: 50%;z-index: -1;}#sk-container-id-2 div.sk-parallel-item {display: flex;flex-direction: column;z-index: 1;position: relative;background-color: white;}#sk-container-id-2 div.sk-parallel-item:first-child::after {align-self: flex-end;width: 50%;}#sk-container-id-2 div.sk-parallel-item:last-child::after {align-self: flex-start;width: 50%;}#sk-container-id-2 div.sk-parallel-item:only-child::after {width: 0;}#sk-container-id-2 div.sk-dashed-wrapped {border: 1px dashed gray;margin: 0 0.4em 0.5em 0.4em;box-sizing: border-box;padding-bottom: 0.4em;background-color: white;}#sk-container-id-2 div.sk-label label {font-family: monospace;font-weight: bold;display: inline-block;line-height: 1.2em;}#sk-container-id-2 div.sk-label-container {text-align: center;}#sk-container-id-2 div.sk-container {/* jupyter's `normalize.less` sets `[hidden] { display: none; }` but bootstrap.min.css set `[hidden] { display: none !important; }` so we also need the `!important` here to be able to override the default hidden behavior on the sphinx rendered scikit-learn.org. See: https://github.com/scikit-learn/scikit-learn/issues/21755 */display: inline-block !important;position: relative;}#sk-container-id-2 div.sk-text-repr-fallback {display: none;}</style><div id=\"sk-container-id-2\" class=\"sk-top-container\"><div class=\"sk-text-repr-fallback\"><pre>LGBMRegressor()</pre><b>In a Jupyter environment, please rerun this cell to show the HTML representation or trust the notebook. <br />On GitHub, the HTML representation is unable to render, please try loading this page with nbviewer.org.</b></div><div class=\"sk-container\" hidden><div class=\"sk-item\"><div class=\"sk-estimator sk-toggleable\"><input class=\"sk-toggleable__control sk-hidden--visually\" id=\"sk-estimator-id-2\" type=\"checkbox\" checked><label for=\"sk-estimator-id-2\" class=\"sk-toggleable__label sk-toggleable__label-arrow\">LGBMRegressor</label><div class=\"sk-toggleable__content\"><pre>LGBMRegressor()</pre></div></div></div></div></div>"
      ],
      "text/plain": [
       "LGBMRegressor()"
      ]
     },
     "execution_count": 20,
     "metadata": {},
     "output_type": "execute_result"
    }
   ],
   "source": [
    "model = pickle.load(open(file_path, 'rb'))\n",
    "    \n",
    "model"
   ]
  },
  {
   "cell_type": "code",
   "execution_count": 21,
   "id": "c4546723-e42e-49c8-a68f-bf22bb57c2ba",
   "metadata": {
    "tags": []
   },
   "outputs": [],
   "source": [
    "y_train_pred = model.predict(X_train_std)\n",
    "y_test_pred = model.predict(X_test_std)"
   ]
  },
  {
   "cell_type": "code",
   "execution_count": 22,
   "id": "9f4d3a10-003f-433c-b174-fe41a3656dd3",
   "metadata": {
    "tags": []
   },
   "outputs": [
    {
     "data": {
      "text/plain": [
       "(1.9212381080320244, 24.5098863728449)"
      ]
     },
     "execution_count": 22,
     "metadata": {},
     "output_type": "execute_result"
    }
   ],
   "source": [
    "(\n",
    "    mean_squared_error(\n",
    "        y_train, y_train_pred\n",
    "    ),\n",
    "    mean_squared_error(\n",
    "        y_test, y_test_pred\n",
    "    )\n",
    ")"
   ]
  },
  {
   "cell_type": "markdown",
   "id": "c500a880-7e79-42e2-a1af-b9cd3e33e35c",
   "metadata": {},
   "source": [
    "## モデルの保存と読み込み（標準化のモデルも共有する必要あり）"
   ]
  },
  {
   "cell_type": "code",
   "execution_count": 23,
   "id": "60e4b394-ce2c-416a-a43c-182b5ccd385e",
   "metadata": {
    "tags": []
   },
   "outputs": [],
   "source": [
    "file_path = '../models/trained_LightGBMRegressor_standard_scaler.pkl'\n",
    "pickle.dump(standard_scaler, open(file_path, 'wb'))\n",
    "\n",
    "del standard_scaler"
   ]
  },
  {
   "cell_type": "code",
   "execution_count": 24,
   "id": "80de8d2d-9ca9-4112-84ef-66066aac0ae6",
   "metadata": {
    "tags": []
   },
   "outputs": [],
   "source": [
    "standard_scaler = pickle.load(open(file_path, 'rb'))"
   ]
  },
  {
   "cell_type": "code",
   "execution_count": 25,
   "id": "9701691c-19c3-4a1b-8f88-cdaadd0897b8",
   "metadata": {
    "tags": []
   },
   "outputs": [],
   "source": [
    "X_test_std = standard_scaler.transform(X_test)"
   ]
  },
  {
   "cell_type": "code",
   "execution_count": null,
   "id": "1934145d-f7fc-4a87-9fd1-dbe0f507cf07",
   "metadata": {},
   "outputs": [],
   "source": []
  }
 ],
 "metadata": {
  "kernelspec": {
   "display_name": "Python 3 (ipykernel)",
   "language": "python",
   "name": "python3"
  },
  "language_info": {
   "codemirror_mode": {
    "name": "ipython",
    "version": 3
   },
   "file_extension": ".py",
   "mimetype": "text/x-python",
   "name": "python",
   "nbconvert_exporter": "python",
   "pygments_lexer": "ipython3",
   "version": "3.9.16"
  }
 },
 "nbformat": 4,
 "nbformat_minor": 5
}
