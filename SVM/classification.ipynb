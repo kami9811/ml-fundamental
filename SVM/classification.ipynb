{
 "cells": [
  {
   "cell_type": "code",
   "execution_count": 1,
   "id": "7fd24b2a-29ea-4502-80a1-0d7fabb0cdac",
   "metadata": {
    "tags": []
   },
   "outputs": [],
   "source": [
    "import numpy as np\n",
    "import pandas as pd\n",
    "\n",
    "from sklearn.model_selection import train_test_split\n",
    "\n",
    "from sklearn.preprocessing import StandardScaler\n",
    "\n",
    "from sklearn.svm import SVC\n",
    "\n",
    "from sklearn.metrics import accuracy_score"
   ]
  },
  {
   "cell_type": "markdown",
   "id": "bb20cad1-6d63-4895-a448-b48571cc68eb",
   "metadata": {},
   "source": [
    "## データの抽出"
   ]
  },
  {
   "cell_type": "code",
   "execution_count": 2,
   "id": "daeea6fc-638b-4932-a8c9-9ae06eeaa82f",
   "metadata": {
    "tags": []
   },
   "outputs": [],
   "source": [
    "# 住宅価格データセットの読み込み\n",
    "df = pd.read_csv(\n",
    "    # \"https://archive.ics.uci.edu/ml/machine-learning-databases/housing/housing.data\",\n",
    "    \"https://archive.ics.uci.edu/ml/machine-learning-databases/wine/wine.data\",\n",
    "    header=None,\n",
    ")"
   ]
  },
  {
   "cell_type": "code",
   "execution_count": 3,
   "id": "99dbbf05-133e-4226-8c3b-72c848f659f2",
   "metadata": {
    "tags": []
   },
   "outputs": [
    {
     "data": {
      "text/plain": [
       "(array([[1.423e+01, 1.710e+00, 2.430e+00, ..., 1.040e+00, 3.920e+00,\n",
       "         1.065e+03],\n",
       "        [1.320e+01, 1.780e+00, 2.140e+00, ..., 1.050e+00, 3.400e+00,\n",
       "         1.050e+03],\n",
       "        [1.316e+01, 2.360e+00, 2.670e+00, ..., 1.030e+00, 3.170e+00,\n",
       "         1.185e+03],\n",
       "        ...,\n",
       "        [1.327e+01, 4.280e+00, 2.260e+00, ..., 5.900e-01, 1.560e+00,\n",
       "         8.350e+02],\n",
       "        [1.317e+01, 2.590e+00, 2.370e+00, ..., 6.000e-01, 1.620e+00,\n",
       "         8.400e+02],\n",
       "        [1.413e+01, 4.100e+00, 2.740e+00, ..., 6.100e-01, 1.600e+00,\n",
       "         5.600e+02]]),\n",
       " array([1.30006180e+01, 2.33634831e+00, 2.36651685e+00, 1.94949438e+01,\n",
       "        9.97415730e+01, 2.29511236e+00, 2.02926966e+00, 3.61853933e-01,\n",
       "        1.59089888e+00, 5.05808988e+00, 9.57449438e-01, 2.61168539e+00,\n",
       "        7.46893258e+02]),\n",
       " array([8.09542915e-01, 1.11400363e+00, 2.73572294e-01, 3.33016976e+00,\n",
       "        1.42423077e+01, 6.24090564e-01, 9.96048950e-01, 1.24103260e-01,\n",
       "        5.70748849e-01, 2.31176466e+00, 2.27928607e-01, 7.07993265e-01,\n",
       "        3.14021657e+02]))"
      ]
     },
     "execution_count": 3,
     "metadata": {},
     "output_type": "execute_result"
    }
   ],
   "source": [
    "X = df.iloc[:, 1:].values  # 訓練データ\n",
    "y = df.iloc[:, 0].values  # ラベル\n",
    "X, X.mean(axis=0), X.std(axis=0)"
   ]
  },
  {
   "cell_type": "markdown",
   "id": "0976a2f2-4875-411b-a4a7-d48f2c00a69f",
   "metadata": {},
   "source": [
    "## データセットを訓練データとテストデータに分割"
   ]
  },
  {
   "cell_type": "code",
   "execution_count": 4,
   "id": "88d9ac88-6651-4121-b44f-d1a319906f65",
   "metadata": {
    "tags": []
   },
   "outputs": [],
   "source": [
    "X_train, X_test, y_train, y_test = train_test_split(\n",
    "    X, y, test_size=0.2, random_state=0\n",
    ")"
   ]
  },
  {
   "cell_type": "code",
   "execution_count": 5,
   "id": "d27690c8-5234-4fba-aeb6-3a8758367e70",
   "metadata": {
    "tags": []
   },
   "outputs": [
    {
     "data": {
      "text/plain": [
       "((142, 13), (36, 13), (142,), (36,))"
      ]
     },
     "execution_count": 5,
     "metadata": {},
     "output_type": "execute_result"
    }
   ],
   "source": [
    "X_train.shape, X_test.shape, y_train.shape, y_test.shape"
   ]
  },
  {
   "cell_type": "markdown",
   "id": "66d492c4-cce7-4301-bf63-9f22790d5a8e",
   "metadata": {},
   "source": [
    "## データ加工"
   ]
  },
  {
   "cell_type": "code",
   "execution_count": 6,
   "id": "88b26223-6e05-47ac-af41-4758bd8b5bf3",
   "metadata": {
    "tags": []
   },
   "outputs": [],
   "source": [
    "standard_scaler = StandardScaler()  # 変数ごとの平均0，標準偏差1\n",
    "X_train_std = standard_scaler.fit_transform(X_train)\n",
    "X_test_std = standard_scaler.transform(X_test)"
   ]
  },
  {
   "cell_type": "code",
   "execution_count": 7,
   "id": "94bb556d-f3b2-4a3d-b3d8-c45adce74890",
   "metadata": {
    "tags": []
   },
   "outputs": [
    {
     "data": {
      "text/plain": [
       "(array([[ 0.87668336,  0.79842885,  0.64412971, ...,  0.0290166 ,\n",
       "         -1.06412236, -0.2059076 ],\n",
       "        [-0.36659076, -0.7581304 , -0.39779858, ...,  0.0290166 ,\n",
       "         -0.73083231, -0.81704676],\n",
       "        [-1.69689407, -0.34424759, -0.32337513, ...,  0.90197362,\n",
       "          0.51900537, -1.31256499],\n",
       "        ...,\n",
       "        [-0.70227477, -0.68615078, -0.65828065, ...,  0.46549511,\n",
       "          0.51900537, -1.31256499],\n",
       "        [ 1.13777093, -0.62316862, -0.91876272, ..., -0.18922266,\n",
       "          1.03282752,  0.80164614],\n",
       "        [ 1.4610222 ,  0.12361993,  0.42085937, ..., -1.45501034,\n",
       "         -1.2168803 , -0.2719767 ]]),\n",
       " array([ 7.03662480e-16, -1.28799553e-15,  3.00932987e-15,  2.66707626e-15,\n",
       "        -1.79043009e-16,  6.91934772e-16,  6.17659288e-16, -6.86461842e-16,\n",
       "         8.63941156e-16, -2.17353522e-16, -3.59649712e-17,  1.60591415e-15,\n",
       "        -9.46035113e-17]),\n",
       " array([1., 1., 1., 1., 1., 1., 1., 1., 1., 1., 1., 1., 1.]))"
      ]
     },
     "execution_count": 7,
     "metadata": {},
     "output_type": "execute_result"
    }
   ],
   "source": [
    "X_train_std, X_train_std.mean(axis=0), X_train_std.std(axis=0)"
   ]
  },
  {
   "cell_type": "code",
   "execution_count": 8,
   "id": "1f85f169-c419-4d88-93ba-652e295ced75",
   "metadata": {
    "tags": []
   },
   "outputs": [
    {
     "data": {
      "text/plain": [
       "(array([[ 9.38847070e-01, -6.32166068e-01, -4.35010303e-01,\n",
       "         -9.19695615e-01,  1.26324041e+00,  5.59998633e-01,\n",
       "          9.77754158e-01, -1.20637533e+00,  2.36680192e-02,\n",
       "          3.39284695e-01, -1.45574805e-01,  8.52295413e-01,\n",
       "          1.04940526e+00],\n",
       "        [-2.42263344e-01,  2.67579163e-01,  4.20859365e-01,\n",
       "          7.12764102e-01,  8.40672358e-01, -1.27747161e+00,\n",
       "         -6.05828120e-01, -9.70634096e-01, -5.87397203e-01,\n",
       "          2.42611713e+00, -2.06608025e+00, -1.55017035e+00,\n",
       "         -8.66598582e-01],\n",
       "        [-7.64438475e-01, -1.11802849e+00, -7.69915825e-01,\n",
       "         -1.61767889e-01, -9.20027861e-01,  2.03653722e+00,\n",
       "          1.18341419e+00, -1.36353615e+00,  4.48018868e-01,\n",
       "         -2.50930538e-01,  1.16386073e+00,  3.94021597e-01,\n",
       "         -1.06480588e+00],\n",
       "        [ 7.15057728e-01, -5.78181354e-01,  3.46435916e-01,\n",
       "          2.75498106e-01,  1.12238439e+00,  1.15061407e+00,\n",
       "          8.54358136e-01, -1.28495574e+00,  1.43251284e+00,\n",
       "          5.07917619e-01,  1.16312302e-01,  6.16214963e-01,\n",
       "          1.24761256e+00],\n",
       "        [ 8.09879269e-02,  3.08378173e+00, -8.81550999e-01,\n",
       "          5.67008770e-01, -9.90455870e-01,  5.92810602e-01,\n",
       "          7.20679112e-01, -4.99151627e-01,  6.85655343e-01,\n",
       "         -1.03085781e+00, -9.74883977e-01,  7.13424560e-01,\n",
       "         -1.19694407e+00],\n",
       "        [-1.77149051e+00, -2.90262880e-01,  3.21173872e+00,\n",
       "          2.60758342e+00,  1.33366842e+00,  1.51154572e+00,\n",
       "          3.21944855e+00,  8.36715367e-01,  4.48018868e-01,\n",
       "          4.02522042e-01, -1.01926954e-01,  1.53276259e+00,\n",
       "         -9.16150406e-01],\n",
       "        [ 1.33669479e+00, -2.00288357e-01,  9.04611787e-01,\n",
       "         -5.69882819e-01,  1.47452444e+00,  5.59998633e-01,\n",
       "          5.76717087e-01, -4.20571216e-01, -6.04371237e-01,\n",
       "          2.01884783e-03,  4.65495111e-01,  1.38000466e+00,\n",
       "          1.82571717e+00],\n",
       "        [-7.76871216e-01,  1.31128363e+00,  4.87421183e-02,\n",
       "          4.21253438e-01, -8.49599852e-01,  6.78191041e-02,\n",
       "         -1.05828020e+00,  1.07245660e+00, -9.60825950e-01,\n",
       "          1.09813285e+00, -1.71689745e+00, -1.39741241e+00,\n",
       "         -7.34460386e-01],\n",
       "        [-9.13631369e-01, -5.78181354e-01, -9.18762724e-01,\n",
       "         -1.61767889e-01, -1.41302392e+00, -9.98569875e-01,\n",
       "          8.31330005e-02,  5.09112525e-02,  4.06420531e-02,\n",
       "         -6.93591962e-01,  2.03608004e-01,  8.10634157e-01,\n",
       "         -7.67494935e-01],\n",
       "        [-1.12498797e+00, -4.88206831e-01, -1.74528230e-01,\n",
       "         -3.07523221e-01, -1.34259591e+00, -1.08059980e+00,\n",
       "         -4.61866095e-01,  1.22961742e+00,  5.76160871e-02,\n",
       "         -1.11517427e+00,  5.52790813e-01, -4.39203523e-01,\n",
       "         -8.66598582e-01],\n",
       "        [ 4.66402904e-01,  1.68607187e-01, -6.28930558e-02,\n",
       "          1.29742774e-01, -7.79171843e-01, -1.40871948e+00,\n",
       "         -1.49016628e+00,  5.09112525e-02, -1.63978731e+00,\n",
       "          2.33889118e-01, -1.10582753e+00, -1.61461816e-01,\n",
       "          1.24437889e-01],\n",
       "        [ 1.11290545e+00,  2.39997536e+00, -5.09433752e-01,\n",
       "          1.29742774e-01, -1.41302392e+00, -2.09777082e+00,\n",
       "         -1.65469430e+00,  2.86652487e-01, -1.57189117e+00,\n",
       "         -6.12184986e-02, -1.62960174e+00, -1.74458954e+00,\n",
       "         -1.08132315e+00],\n",
       "        [ 1.51075317e+00, -5.51188997e-01,  3.09224191e-01,\n",
       "         -1.26950841e+00,  8.40672358e-01,  1.65919958e+00,\n",
       "          1.48162125e+00, -1.84829982e-01,  6.17759208e-01,\n",
       "          7.18708773e-01,  4.21847260e-01,  3.66247427e-01,\n",
       "          2.33775268e+00],\n",
       "        [-7.64438475e-01, -1.17201321e+00, -9.93186174e-01,\n",
       "         -3.07523221e-01, -8.49599852e-01,  2.06934919e+00,\n",
       "          1.85180931e+00, -9.70634096e-01,  5.83811140e-01,\n",
       "         -2.29851422e-01,  3.78199409e-01,  2.55150744e-01,\n",
       "         -2.71976699e-01],\n",
       "        [ 7.39923211e-01,  1.86602092e-01,  1.20230558e+00,\n",
       "          1.44154076e+00,  3.47676297e-01, -1.16262972e+00,\n",
       "         -1.14054421e+00,  2.08072075e-01, -1.12124252e-01,\n",
       "          1.52393098e+00, -9.31236125e-01, -1.09189653e+00,\n",
       "          2.53342422e-02],\n",
       "        [-1.22444990e+00, -1.30697499e+00, -1.36530342e+00,\n",
       "         -1.61767889e-01, -9.90455870e-01,  2.64690916e-01,\n",
       "          3.19642042e-01, -4.99151627e-01, -2.98838626e-01,\n",
       "         -1.07301604e+00,  1.86222635e+00,  7.41198731e-01,\n",
       "         -1.53389647e+00],\n",
       "        [ 9.63712552e-01, -7.58130400e-01,  1.23951731e+00,\n",
       "         -1.60125576e-02,  2.24923253e+00,  1.13420808e+00,\n",
       "          8.13226129e-01,  1.07245660e+00, -4.34630898e-01,\n",
       "          1.49572656e-01,  1.29480428e+00,  5.74553707e-01,\n",
       "          1.62750987e+00],\n",
       "        [ 1.49832042e+00, -7.04145686e-01,  4.20859365e-01,\n",
       "         -8.90544549e-01,  5.58960323e-01,  1.70841753e+00,\n",
       "          2.03690334e+00, -3.41990805e-01,  4.31044834e-01,\n",
       "          1.54079428e+00,  1.20750858e+00,  3.24586171e-01,\n",
       "          3.09754730e+00],\n",
       "        [-4.28754462e-01, -9.11087089e-01, -1.29087997e+00,\n",
       "         -8.03091350e-01, -4.46374703e-03, -3.91548456e-01,\n",
       "         -5.54413111e-01,  1.30819784e+00, -1.67373538e+00,\n",
       "          2.97126464e-01,  1.16312302e-01, -1.38352533e+00,\n",
       "         -9.65702229e-01],\n",
       "        [ 1.05074174e+00, -6.50160973e-01,  8.67400062e-01,\n",
       "         -6.86487084e-01, -4.27031800e-01,  3.13908869e-01,\n",
       "          1.07030117e+00, -1.12779492e+00,  1.16092829e+00,\n",
       "          2.33889118e-01,  1.25115643e+00,  1.08837586e+00,\n",
       "          1.72661352e+00],\n",
       "        [ 1.55584374e-01, -1.22599792e+00, -2.48165516e+00,\n",
       "         -1.32781054e+00, -1.55387994e+00,  1.18342604e+00,\n",
       "          1.26567821e+00, -8.13473273e-01,  1.14395426e+00,\n",
       "          1.07414425e-01,  7.27382218e-01,  8.24521243e-01,\n",
       "         -7.93922574e-01],\n",
       "        [ 8.09879269e-02, -6.50160973e-01,  6.81341438e-01,\n",
       "         -4.53278553e-01, -1.45319765e-01,  3.13908869e-01,\n",
       "          4.94453073e-01, -5.77732039e-01, -2.81864592e-01,\n",
       "         -3.35247000e-01,  7.27382218e-01, -1.05913475e-01,\n",
       "          1.19806073e+00],\n",
       "        [ 3.17210010e-01,  1.95599544e-01,  1.87211663e+00,\n",
       "          4.21253438e-01,  1.26324041e+00,  8.88118319e-01,\n",
       "          7.61811120e-01,  2.08072075e-01,  3.63148698e-01,\n",
       "         -3.05736238e-01,  3.78199409e-01,  4.77344109e-01,\n",
       "         -2.42175814e-02],\n",
       "        [-5.90380098e-01, -5.78181354e-01, -1.43972687e+00,\n",
       "          2.75498106e-01, -1.06088388e+00, -9.62407389e-02,\n",
       "         -2.99800193e-02, -3.41990805e-01, -2.13968456e-01,\n",
       "         -8.87519825e-01,  3.78199409e-01,  1.36611757e+00,\n",
       "         -2.32335240e-01],\n",
       "        [-8.14169440e-01, -1.14502085e+00, -3.23375129e-01,\n",
       "         -1.03629988e+00,  6.59642617e-02, -3.42330503e-01,\n",
       "         -8.83469169e-01,  2.09400195e+00, -2.03019009e+00,\n",
       "         -7.48397663e-01,  1.29480428e+00, -1.27242864e+00,\n",
       "         -2.05907601e-01],\n",
       "        [-5.77947357e-01,  5.16403072e-02, -7.32704101e-01,\n",
       "          4.21253438e-01, -8.49599852e-01,  4.77968712e-01,\n",
       "          3.29925044e-01, -8.13473273e-01, -6.55293339e-01,\n",
       "         -1.28380720e+00, -2.32870507e-01,  2.69037829e-01,\n",
       "         -1.37863409e+00],\n",
       "        [-6.89842028e-01, -7.58130400e-01, -2.86163404e-01,\n",
       "          5.67008770e-01, -9.90455870e-01,  7.89682413e-01,\n",
       "          1.23482920e+00,  2.08072075e-01,  2.78278529e-01,\n",
       "         -4.65937515e-01, -1.14947538e+00,  3.52360341e-01,\n",
       "         -1.28944081e+00],\n",
       "        [-1.02552604e+00, -6.86150782e-01, -2.11739955e-01,\n",
       "          9.45972633e-01, -7.08743835e-01, -7.85292079e-01,\n",
       "         -2.66489061e-01,  5.22393721e-01, -7.81761846e-02,\n",
       "         -1.09409516e+00,  1.64398709e+00, -4.53090608e-01,\n",
       "         -8.17046759e-01],\n",
       "        [-1.52283569e+00,  2.76576615e-01,  2.05817525e+00,\n",
       "          1.29742774e-01,  2.06820279e-01, -8.34510032e-01,\n",
       "          8.31330005e-02,  1.85826072e+00, -9.43851916e-01,\n",
       "         -5.24959039e-01,  1.20750858e+00, -1.19800560e-01,\n",
       "         -4.47059809e-01],\n",
       "        [ 9.88578035e-01,  3.48556233e-01, -2.48951679e-01,\n",
       "          7.12764102e-01, -7.08743835e-01, -1.49074940e+00,\n",
       "         -1.30507224e+00,  3.65232898e-01, -9.77799984e-01,\n",
       "          1.91178671e+00, -1.10582753e+00, -1.25854156e+00,\n",
       "         -4.20632170e-01],\n",
       "        [ 5.03701128e-01, -5.42191545e-01,  9.41823511e-01,\n",
       "         -1.00714881e+00, -4.97459808e-01,  9.70148241e-01,\n",
       "          1.01888616e+00, -1.84829982e-01, -2.64890558e-01,\n",
       "         -1.03376729e-01, -1.45574805e-01,  8.80069584e-01,\n",
       "          1.49537167e+00],\n",
       "        [ 1.53561865e+00, -6.05173711e-01, -2.48951679e-01,\n",
       "         -9.48846682e-01,  1.26324041e+00,  1.54435769e+00,\n",
       "          1.08058418e+00, -8.13473273e-01,  7.19603411e-01,\n",
       "          5.62723319e-01, -5.82791026e-02,  1.00505335e+00,\n",
       "          7.52094321e-01],\n",
       "        [-1.17471893e+00,  1.73416389e+00,  4.87421183e-02,\n",
       "          7.12764102e-01, -1.41302392e+00, -2.60300582e-01,\n",
       "         -2.04791050e-01,  4.43813310e-01, -4.34630898e-01,\n",
       "         -1.03085781e+00, -7.12996870e-01, -2.25909628e-02,\n",
       "         -5.36253092e-01],\n",
       "        [ 1.52318591e+00,  1.50023013e+00,  2.72012467e-01,\n",
       "         -1.90918956e-01,  7.70244349e-01,  9.70148241e-01,\n",
       "          7.20679112e-01, -4.99151627e-01, -6.04371237e-01,\n",
       "          8.21194866e-02, -3.63814061e-01,  1.03282752e+00,\n",
       "          1.11547436e+00],\n",
       "        [ 2.29401586e+00, -6.59158425e-01, -7.32704101e-01,\n",
       "         -1.61932121e+00, -2.15747773e-01,  8.88118319e-01,\n",
       "          1.06001817e+00, -5.77732039e-01,  6.34733242e-01,\n",
       "          6.52561942e-02,  5.52790813e-01,  3.66247427e-01,\n",
       "          9.99853439e-01],\n",
       "        [ 8.09879269e-02, -5.42191545e-01, -9.93186174e-01,\n",
       "         -7.44789217e-01,  4.88532314e-01,  1.21623801e+00,\n",
       "          1.08058418e+00, -6.56312450e-01,  7.19603411e-01,\n",
       "         -2.19697526e-03, -3.20166209e-01,  1.06060169e+00,\n",
       "          4.71300654e-01]]),\n",
       " array([ 0.09687421, -0.1612994 , -0.00707547, -0.08646097, -0.11206209,\n",
       "         0.29568   ,  0.4073332 , -0.06477658, -0.12721228,  0.02684536,\n",
       "         0.08842617,  0.1745285 ,  0.07451902]),\n",
       " array([1.02802645, 1.00110332, 1.08612137, 0.84220226, 1.01008024,\n",
       "        1.08131477, 1.0536704 , 0.86863767, 0.82660987, 0.86684972,\n",
       "        0.97111171, 0.90051451, 1.17127413]))"
      ]
     },
     "execution_count": 8,
     "metadata": {},
     "output_type": "execute_result"
    }
   ],
   "source": [
    "X_test_std, X_test_std.mean(axis=0), X_test_std.std(axis=0)"
   ]
  },
  {
   "cell_type": "markdown",
   "id": "a786f735-e710-478b-9a34-e17f3ed197c5",
   "metadata": {},
   "source": [
    "## 予測モデルの指定"
   ]
  },
  {
   "cell_type": "code",
   "execution_count": 9,
   "id": "d279eab7-5ed4-4bc5-bb63-5c922644f47d",
   "metadata": {
    "tags": []
   },
   "outputs": [],
   "source": [
    "model = SVC(kernel=\"rbf\", C=1.0)"
   ]
  },
  {
   "cell_type": "markdown",
   "id": "d4bfb9d2-9845-4ea9-8f06-782b65f9df9c",
   "metadata": {},
   "source": [
    "## 訓練データと損失関数を用いたモデルの学習"
   ]
  },
  {
   "cell_type": "code",
   "execution_count": 10,
   "id": "1241b1f7-f339-4531-8c30-aada07e8d662",
   "metadata": {
    "tags": []
   },
   "outputs": [
    {
     "data": {
      "text/html": [
       "<style>#sk-container-id-1 {color: black;background-color: white;}#sk-container-id-1 pre{padding: 0;}#sk-container-id-1 div.sk-toggleable {background-color: white;}#sk-container-id-1 label.sk-toggleable__label {cursor: pointer;display: block;width: 100%;margin-bottom: 0;padding: 0.3em;box-sizing: border-box;text-align: center;}#sk-container-id-1 label.sk-toggleable__label-arrow:before {content: \"▸\";float: left;margin-right: 0.25em;color: #696969;}#sk-container-id-1 label.sk-toggleable__label-arrow:hover:before {color: black;}#sk-container-id-1 div.sk-estimator:hover label.sk-toggleable__label-arrow:before {color: black;}#sk-container-id-1 div.sk-toggleable__content {max-height: 0;max-width: 0;overflow: hidden;text-align: left;background-color: #f0f8ff;}#sk-container-id-1 div.sk-toggleable__content pre {margin: 0.2em;color: black;border-radius: 0.25em;background-color: #f0f8ff;}#sk-container-id-1 input.sk-toggleable__control:checked~div.sk-toggleable__content {max-height: 200px;max-width: 100%;overflow: auto;}#sk-container-id-1 input.sk-toggleable__control:checked~label.sk-toggleable__label-arrow:before {content: \"▾\";}#sk-container-id-1 div.sk-estimator input.sk-toggleable__control:checked~label.sk-toggleable__label {background-color: #d4ebff;}#sk-container-id-1 div.sk-label input.sk-toggleable__control:checked~label.sk-toggleable__label {background-color: #d4ebff;}#sk-container-id-1 input.sk-hidden--visually {border: 0;clip: rect(1px 1px 1px 1px);clip: rect(1px, 1px, 1px, 1px);height: 1px;margin: -1px;overflow: hidden;padding: 0;position: absolute;width: 1px;}#sk-container-id-1 div.sk-estimator {font-family: monospace;background-color: #f0f8ff;border: 1px dotted black;border-radius: 0.25em;box-sizing: border-box;margin-bottom: 0.5em;}#sk-container-id-1 div.sk-estimator:hover {background-color: #d4ebff;}#sk-container-id-1 div.sk-parallel-item::after {content: \"\";width: 100%;border-bottom: 1px solid gray;flex-grow: 1;}#sk-container-id-1 div.sk-label:hover label.sk-toggleable__label {background-color: #d4ebff;}#sk-container-id-1 div.sk-serial::before {content: \"\";position: absolute;border-left: 1px solid gray;box-sizing: border-box;top: 0;bottom: 0;left: 50%;z-index: 0;}#sk-container-id-1 div.sk-serial {display: flex;flex-direction: column;align-items: center;background-color: white;padding-right: 0.2em;padding-left: 0.2em;position: relative;}#sk-container-id-1 div.sk-item {position: relative;z-index: 1;}#sk-container-id-1 div.sk-parallel {display: flex;align-items: stretch;justify-content: center;background-color: white;position: relative;}#sk-container-id-1 div.sk-item::before, #sk-container-id-1 div.sk-parallel-item::before {content: \"\";position: absolute;border-left: 1px solid gray;box-sizing: border-box;top: 0;bottom: 0;left: 50%;z-index: -1;}#sk-container-id-1 div.sk-parallel-item {display: flex;flex-direction: column;z-index: 1;position: relative;background-color: white;}#sk-container-id-1 div.sk-parallel-item:first-child::after {align-self: flex-end;width: 50%;}#sk-container-id-1 div.sk-parallel-item:last-child::after {align-self: flex-start;width: 50%;}#sk-container-id-1 div.sk-parallel-item:only-child::after {width: 0;}#sk-container-id-1 div.sk-dashed-wrapped {border: 1px dashed gray;margin: 0 0.4em 0.5em 0.4em;box-sizing: border-box;padding-bottom: 0.4em;background-color: white;}#sk-container-id-1 div.sk-label label {font-family: monospace;font-weight: bold;display: inline-block;line-height: 1.2em;}#sk-container-id-1 div.sk-label-container {text-align: center;}#sk-container-id-1 div.sk-container {/* jupyter's `normalize.less` sets `[hidden] { display: none; }` but bootstrap.min.css set `[hidden] { display: none !important; }` so we also need the `!important` here to be able to override the default hidden behavior on the sphinx rendered scikit-learn.org. See: https://github.com/scikit-learn/scikit-learn/issues/21755 */display: inline-block !important;position: relative;}#sk-container-id-1 div.sk-text-repr-fallback {display: none;}</style><div id=\"sk-container-id-1\" class=\"sk-top-container\"><div class=\"sk-text-repr-fallback\"><pre>SVC()</pre><b>In a Jupyter environment, please rerun this cell to show the HTML representation or trust the notebook. <br />On GitHub, the HTML representation is unable to render, please try loading this page with nbviewer.org.</b></div><div class=\"sk-container\" hidden><div class=\"sk-item\"><div class=\"sk-estimator sk-toggleable\"><input class=\"sk-toggleable__control sk-hidden--visually\" id=\"sk-estimator-id-1\" type=\"checkbox\" checked><label for=\"sk-estimator-id-1\" class=\"sk-toggleable__label sk-toggleable__label-arrow\">SVC</label><div class=\"sk-toggleable__content\"><pre>SVC()</pre></div></div></div></div></div>"
      ],
      "text/plain": [
       "SVC()"
      ]
     },
     "execution_count": 10,
     "metadata": {},
     "output_type": "execute_result"
    }
   ],
   "source": [
    "model.fit(X_train_std, y_train)"
   ]
  },
  {
   "cell_type": "markdown",
   "id": "e37f2f85-a47c-4cca-9598-2f4e84c79702",
   "metadata": {},
   "source": [
    "## テストデータを用いたモデルの評価"
   ]
  },
  {
   "cell_type": "code",
   "execution_count": 11,
   "id": "2dc10f06-1412-456b-b986-0b9699b01b64",
   "metadata": {
    "tags": []
   },
   "outputs": [],
   "source": [
    "y_train_pred = model.predict(X_train_std)\n",
    "y_test_pred = model.predict(X_test_std)"
   ]
  },
  {
   "cell_type": "code",
   "execution_count": 12,
   "id": "c6f2e5f6-9033-4f76-81b8-b7b46db751b6",
   "metadata": {
    "tags": []
   },
   "outputs": [
    {
     "data": {
      "text/plain": [
       "(0.9929577464788732, 1.0)"
      ]
     },
     "execution_count": 12,
     "metadata": {},
     "output_type": "execute_result"
    }
   ],
   "source": [
    "(\n",
    "    accuracy_score(\n",
    "        y_train, y_train_pred\n",
    "    ),\n",
    "    accuracy_score(\n",
    "        y_test, y_test_pred\n",
    "    )\n",
    ")"
   ]
  },
  {
   "cell_type": "markdown",
   "id": "8fa3f5ee-339b-4416-8c7a-26be85de91de",
   "metadata": {},
   "source": [
    "## モデルの保存と読み込み"
   ]
  },
  {
   "cell_type": "code",
   "execution_count": 13,
   "id": "4945453f-8fe5-4196-875c-bffc023381df",
   "metadata": {
    "tags": []
   },
   "outputs": [],
   "source": [
    "# load libraries\n",
    "import pickle"
   ]
  },
  {
   "cell_type": "code",
   "execution_count": 14,
   "id": "e1d4abf3-5bec-4a85-8471-88ca65eef86a",
   "metadata": {
    "tags": []
   },
   "outputs": [],
   "source": [
    "file_path = '../models/trained_LightGBMClassifier_model.pkl'\n",
    "pickle.dump(model, open(file_path, 'wb'))\n",
    "\n",
    "# 学習済みモデルを削除\n",
    "del model"
   ]
  },
  {
   "cell_type": "code",
   "execution_count": 15,
   "id": "073d9ced-15e0-49a2-8b0f-2b442f6ad5d5",
   "metadata": {
    "tags": []
   },
   "outputs": [
    {
     "ename": "NameError",
     "evalue": "name 'model' is not defined",
     "output_type": "error",
     "traceback": [
      "\u001b[0;31m---------------------------------------------------------------------------\u001b[0m",
      "\u001b[0;31mNameError\u001b[0m                                 Traceback (most recent call last)",
      "Cell \u001b[0;32mIn[15], line 1\u001b[0m\n\u001b[0;32m----> 1\u001b[0m y_train_pred \u001b[38;5;241m=\u001b[39m \u001b[43mmodel\u001b[49m\u001b[38;5;241m.\u001b[39mpredict(X_train_std)\n\u001b[1;32m      2\u001b[0m y_test_pred \u001b[38;5;241m=\u001b[39m model\u001b[38;5;241m.\u001b[39mpredict(X_test_std)\n",
      "\u001b[0;31mNameError\u001b[0m: name 'model' is not defined"
     ]
    }
   ],
   "source": [
    "y_train_pred = model.predict(X_train_std)\n",
    "y_test_pred = model.predict(X_test_std)"
   ]
  },
  {
   "cell_type": "code",
   "execution_count": 16,
   "id": "f331102b-190e-4669-84af-d462779846d2",
   "metadata": {
    "tags": []
   },
   "outputs": [
    {
     "data": {
      "text/html": [
       "<style>#sk-container-id-2 {color: black;background-color: white;}#sk-container-id-2 pre{padding: 0;}#sk-container-id-2 div.sk-toggleable {background-color: white;}#sk-container-id-2 label.sk-toggleable__label {cursor: pointer;display: block;width: 100%;margin-bottom: 0;padding: 0.3em;box-sizing: border-box;text-align: center;}#sk-container-id-2 label.sk-toggleable__label-arrow:before {content: \"▸\";float: left;margin-right: 0.25em;color: #696969;}#sk-container-id-2 label.sk-toggleable__label-arrow:hover:before {color: black;}#sk-container-id-2 div.sk-estimator:hover label.sk-toggleable__label-arrow:before {color: black;}#sk-container-id-2 div.sk-toggleable__content {max-height: 0;max-width: 0;overflow: hidden;text-align: left;background-color: #f0f8ff;}#sk-container-id-2 div.sk-toggleable__content pre {margin: 0.2em;color: black;border-radius: 0.25em;background-color: #f0f8ff;}#sk-container-id-2 input.sk-toggleable__control:checked~div.sk-toggleable__content {max-height: 200px;max-width: 100%;overflow: auto;}#sk-container-id-2 input.sk-toggleable__control:checked~label.sk-toggleable__label-arrow:before {content: \"▾\";}#sk-container-id-2 div.sk-estimator input.sk-toggleable__control:checked~label.sk-toggleable__label {background-color: #d4ebff;}#sk-container-id-2 div.sk-label input.sk-toggleable__control:checked~label.sk-toggleable__label {background-color: #d4ebff;}#sk-container-id-2 input.sk-hidden--visually {border: 0;clip: rect(1px 1px 1px 1px);clip: rect(1px, 1px, 1px, 1px);height: 1px;margin: -1px;overflow: hidden;padding: 0;position: absolute;width: 1px;}#sk-container-id-2 div.sk-estimator {font-family: monospace;background-color: #f0f8ff;border: 1px dotted black;border-radius: 0.25em;box-sizing: border-box;margin-bottom: 0.5em;}#sk-container-id-2 div.sk-estimator:hover {background-color: #d4ebff;}#sk-container-id-2 div.sk-parallel-item::after {content: \"\";width: 100%;border-bottom: 1px solid gray;flex-grow: 1;}#sk-container-id-2 div.sk-label:hover label.sk-toggleable__label {background-color: #d4ebff;}#sk-container-id-2 div.sk-serial::before {content: \"\";position: absolute;border-left: 1px solid gray;box-sizing: border-box;top: 0;bottom: 0;left: 50%;z-index: 0;}#sk-container-id-2 div.sk-serial {display: flex;flex-direction: column;align-items: center;background-color: white;padding-right: 0.2em;padding-left: 0.2em;position: relative;}#sk-container-id-2 div.sk-item {position: relative;z-index: 1;}#sk-container-id-2 div.sk-parallel {display: flex;align-items: stretch;justify-content: center;background-color: white;position: relative;}#sk-container-id-2 div.sk-item::before, #sk-container-id-2 div.sk-parallel-item::before {content: \"\";position: absolute;border-left: 1px solid gray;box-sizing: border-box;top: 0;bottom: 0;left: 50%;z-index: -1;}#sk-container-id-2 div.sk-parallel-item {display: flex;flex-direction: column;z-index: 1;position: relative;background-color: white;}#sk-container-id-2 div.sk-parallel-item:first-child::after {align-self: flex-end;width: 50%;}#sk-container-id-2 div.sk-parallel-item:last-child::after {align-self: flex-start;width: 50%;}#sk-container-id-2 div.sk-parallel-item:only-child::after {width: 0;}#sk-container-id-2 div.sk-dashed-wrapped {border: 1px dashed gray;margin: 0 0.4em 0.5em 0.4em;box-sizing: border-box;padding-bottom: 0.4em;background-color: white;}#sk-container-id-2 div.sk-label label {font-family: monospace;font-weight: bold;display: inline-block;line-height: 1.2em;}#sk-container-id-2 div.sk-label-container {text-align: center;}#sk-container-id-2 div.sk-container {/* jupyter's `normalize.less` sets `[hidden] { display: none; }` but bootstrap.min.css set `[hidden] { display: none !important; }` so we also need the `!important` here to be able to override the default hidden behavior on the sphinx rendered scikit-learn.org. See: https://github.com/scikit-learn/scikit-learn/issues/21755 */display: inline-block !important;position: relative;}#sk-container-id-2 div.sk-text-repr-fallback {display: none;}</style><div id=\"sk-container-id-2\" class=\"sk-top-container\"><div class=\"sk-text-repr-fallback\"><pre>SVC()</pre><b>In a Jupyter environment, please rerun this cell to show the HTML representation or trust the notebook. <br />On GitHub, the HTML representation is unable to render, please try loading this page with nbviewer.org.</b></div><div class=\"sk-container\" hidden><div class=\"sk-item\"><div class=\"sk-estimator sk-toggleable\"><input class=\"sk-toggleable__control sk-hidden--visually\" id=\"sk-estimator-id-2\" type=\"checkbox\" checked><label for=\"sk-estimator-id-2\" class=\"sk-toggleable__label sk-toggleable__label-arrow\">SVC</label><div class=\"sk-toggleable__content\"><pre>SVC()</pre></div></div></div></div></div>"
      ],
      "text/plain": [
       "SVC()"
      ]
     },
     "execution_count": 16,
     "metadata": {},
     "output_type": "execute_result"
    }
   ],
   "source": [
    "model = pickle.load(open(file_path, 'rb'))\n",
    "    \n",
    "model"
   ]
  },
  {
   "cell_type": "code",
   "execution_count": 17,
   "id": "c4546723-e42e-49c8-a68f-bf22bb57c2ba",
   "metadata": {
    "tags": []
   },
   "outputs": [],
   "source": [
    "y_train_pred = model.predict(X_train_std)\n",
    "y_test_pred = model.predict(X_test_std)"
   ]
  },
  {
   "cell_type": "code",
   "execution_count": 18,
   "id": "9f4d3a10-003f-433c-b174-fe41a3656dd3",
   "metadata": {
    "tags": []
   },
   "outputs": [
    {
     "data": {
      "text/plain": [
       "(0.9929577464788732, 1.0)"
      ]
     },
     "execution_count": 18,
     "metadata": {},
     "output_type": "execute_result"
    }
   ],
   "source": [
    "(\n",
    "    accuracy_score(\n",
    "        y_train, y_train_pred\n",
    "    ),\n",
    "    accuracy_score(\n",
    "        y_test, y_test_pred\n",
    "    )\n",
    ")"
   ]
  },
  {
   "cell_type": "markdown",
   "id": "ef8fcd5d-84e6-437e-aa39-d1ab1dc67168",
   "metadata": {},
   "source": [
    "## モデルの保存（標準化のモデルも共有する必要あり）と読み込み"
   ]
  },
  {
   "cell_type": "code",
   "execution_count": 19,
   "id": "9302543d-3b7a-4577-ac83-c144eb63f9f7",
   "metadata": {
    "tags": []
   },
   "outputs": [],
   "source": [
    "file_path = '../models/trained_LightGBMClassifier_standard_scaler.pkl'\n",
    "pickle.dump(standard_scaler, open(file_path, 'wb'))\n",
    "\n",
    "del standard_scaler"
   ]
  },
  {
   "cell_type": "code",
   "execution_count": 20,
   "id": "f07323e7-582a-4c81-b924-91fdf93f85c0",
   "metadata": {
    "tags": []
   },
   "outputs": [],
   "source": [
    "standard_scaler = pickle.load(open(file_path, 'rb'))"
   ]
  },
  {
   "cell_type": "code",
   "execution_count": 21,
   "id": "a8d3451a-bdc1-4842-8d40-ff4ddd9b07ef",
   "metadata": {
    "tags": []
   },
   "outputs": [],
   "source": [
    "X_test_std = standard_scaler.transform(X_test)"
   ]
  },
  {
   "cell_type": "code",
   "execution_count": null,
   "id": "e17316c7-b989-4d4e-a06e-e41b409435a3",
   "metadata": {},
   "outputs": [],
   "source": []
  }
 ],
 "metadata": {
  "kernelspec": {
   "display_name": "Python 3 (ipykernel)",
   "language": "python",
   "name": "python3"
  },
  "language_info": {
   "codemirror_mode": {
    "name": "ipython",
    "version": 3
   },
   "file_extension": ".py",
   "mimetype": "text/x-python",
   "name": "python",
   "nbconvert_exporter": "python",
   "pygments_lexer": "ipython3",
   "version": "3.9.16"
  }
 },
 "nbformat": 4,
 "nbformat_minor": 5
}
